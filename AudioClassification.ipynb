{
  "cells": [
    {
      "cell_type": "code",
      "execution_count": 1,
      "metadata": {
        "id": "QJMNr3fjqRyf",
        "colab": {
          "base_uri": "https://localhost:8080/"
        },
        "outputId": "95bf5fa6-781b-44c4-b80d-b3b2bf5db1f1"
      },
      "outputs": [
        {
          "output_type": "stream",
          "name": "stdout",
          "text": [
            "Looking in indexes: https://pypi.org/simple, https://us-python.pkg.dev/colab-wheels/public/simple/\n",
            "Collecting audiosegment\n",
            "  Downloading audiosegment-0.23.0-py3-none-any.whl (34 kB)\n",
            "Requirement already satisfied: numpy in /usr/local/lib/python3.8/dist-packages (from audiosegment) (1.21.6)\n",
            "Collecting pydub\n",
            "  Downloading pydub-0.25.1-py2.py3-none-any.whl (32 kB)\n",
            "Collecting webrtcvad\n",
            "  Downloading webrtcvad-2.0.10.tar.gz (66 kB)\n",
            "\u001b[K     |████████████████████████████████| 66 kB 2.4 MB/s \n",
            "\u001b[?25hBuilding wheels for collected packages: webrtcvad\n",
            "  Building wheel for webrtcvad (setup.py) ... \u001b[?25l\u001b[?25hdone\n",
            "  Created wheel for webrtcvad: filename=webrtcvad-2.0.10-cp38-cp38-linux_x86_64.whl size=71519 sha256=ef429aedf33e25c8bfcf7f1b53ebec93b6bbbe754354d21e492832bf8342791b\n",
            "  Stored in directory: /root/.cache/pip/wheels/75/e1/fc/01099a9fd0882ce84cc99eb51495812bb8a703461c2b0ca1cb\n",
            "Successfully built webrtcvad\n",
            "Installing collected packages: webrtcvad, pydub, audiosegment\n",
            "Successfully installed audiosegment-0.23.0 pydub-0.25.1 webrtcvad-2.0.10\n"
          ]
        }
      ],
      "source": [
        "!pip3 install audiosegment"
      ]
    },
    {
      "cell_type": "markdown",
      "metadata": {
        "id": "yEfKjum_mu73"
      },
      "source": [
        "### загружаем данные"
      ]
    },
    {
      "cell_type": "code",
      "execution_count": 4,
      "metadata": {
        "colab": {
          "base_uri": "https://localhost:8080/"
        },
        "id": "xYi_Py2dqUW5",
        "outputId": "954782e2-8082-4a30-9816-48c4a829994e"
      },
      "outputs": [
        {
          "output_type": "stream",
          "name": "stdout",
          "text": [
            "Mounted at /content/drive\n"
          ]
        }
      ],
      "source": [
        "# через диск\n",
        "from google.colab import drive\n",
        "drive.mount('/content/drive')\n",
        "import shutil\n",
        "shutil.unpack_archive('/content/drive/MyDrive/Colab Notebooks/AudioClassfication.zip', '/content')\n",
        "shutil.unpack_archive('/content/drive/MyDrive/Colab Notebooks/dataset_splitted.zip', '/content/dataset_splitted')"
      ]
    },
    {
      "cell_type": "code",
      "execution_count": 2,
      "metadata": {
        "id": "YP7zQXLeoqEH",
        "colab": {
          "base_uri": "https://localhost:8080/"
        },
        "outputId": "02f61f3b-76df-462c-c336-1c4e205c25e3"
      },
      "outputs": [
        {
          "output_type": "stream",
          "name": "stdout",
          "text": [
            "Cloning into 'AudioClassification'...\n",
            "remote: Enumerating objects: 3552, done.\u001b[K\n",
            "remote: Total 3552 (delta 0), reused 0 (delta 0), pack-reused 3552\u001b[K\n",
            "Receiving objects: 100% (3552/3552), 708.08 MiB | 30.76 MiB/s, done.\n",
            "Resolving deltas: 100% (4/4), done.\n",
            "Checking out files: 100% (3520/3520), done.\n"
          ]
        }
      ],
      "source": [
        "# через гит\n",
        "!git clone https://github.com/Mihailovskaya/AudioClassification"
      ]
    },
    {
      "cell_type": "code",
      "source": [],
      "metadata": {
        "id": "ZuPvyAm5N6SK"
      },
      "execution_count": null,
      "outputs": []
    },
    {
      "cell_type": "code",
      "source": [
        "import sys \n",
        "from torch.utils.data import DataLoader\n",
        "import numpy as np\n",
        "import torch \n",
        "import time\n",
        "import torch.nn.functional as F\n",
        "import os\n",
        "from sklearn.metrics import accuracy_score\n",
        "import matplotlib.pyplot as plt\n",
        "\n",
        "sys.path.insert(0,'/content/AudioClassification/')\n",
        "from utils.audio_dataset import AudioDataset as SoundDataset\n",
        "from utils.helper_funcs import collate_fn, add_weight_decay\n",
        "from modules.soundnet import SoundNetRaw as SoundNet"
      ],
      "metadata": {
        "id": "vQsxqn7K7M9g"
      },
      "execution_count": 4,
      "outputs": []
    },
    {
      "cell_type": "markdown",
      "metadata": {
        "id": "THXzjXhvoqEL"
      },
      "source": [
        "# create DataLoader"
      ]
    },
    {
      "cell_type": "code",
      "execution_count": 4,
      "metadata": {
        "id": "wgubUfVZoqEP"
      },
      "outputs": [],
      "source": [
        "data_path = '/content/dataset_splitted'\n",
        "n_classes = 10\n",
        "sampling_rate = 22050\n",
        "batch_size = 8\n",
        "segment_length = 114688 #88200\n",
        "\n",
        "train_set = SoundDataset(\n",
        "    data_path,\n",
        "    mode='train',\n",
        "    segment_length=segment_length,\n",
        "    sampling_rate=sampling_rate\n",
        ")\n",
        "val_set = SoundDataset(\n",
        "    data_path,\n",
        "    mode='val',\n",
        "    segment_length=segment_length,\n",
        "    sampling_rate=sampling_rate\n",
        ")\n",
        "\n",
        "train_loader = DataLoader(\n",
        "    train_set, \n",
        "    batch_size=batch_size,\n",
        "    pin_memory=True,\n",
        "    shuffle=True,\n",
        "    drop_last=True,\n",
        "    collate_fn=collate_fn\n",
        ")\n",
        "val_loader = DataLoader(\n",
        "    val_set,\n",
        "    batch_size=batch_size,\n",
        "    pin_memory=True,\n",
        "    shuffle=False,\n",
        "    collate_fn=collate_fn\n",
        ")"
      ]
    },
    {
      "cell_type": "code",
      "execution_count": 4,
      "metadata": {
        "id": "OmH-s2lnYiXG"
      },
      "outputs": [],
      "source": [
        "#for iterno, (x, y) in enumerate(train_loader):\n",
        "  #print(y)\n",
        "  #break"
      ]
    },
    {
      "cell_type": "markdown",
      "metadata": {
        "id": "lLVFXivNoqEQ"
      },
      "source": [
        "# create model "
      ]
    },
    {
      "cell_type": "code",
      "execution_count": null,
      "metadata": {
        "id": "e2nEAbxUoqER"
      },
      "outputs": [],
      "source": [
        "nf = 16\n",
        "ds_fac = 1024\n",
        "n_classes = 10\n",
        "net = SoundNet(nf=nf,\n",
        "               clip_length=segment_length // ds_fac,\n",
        "               n_classes=n_classes\n",
        "               )\n",
        "device = torch.device(\"cuda\" if torch.cuda.is_available() else \"cpu\")\n",
        "net.to(device)"
      ]
    },
    {
      "cell_type": "code",
      "execution_count": 5,
      "metadata": {
        "id": "CKHa5GExFJO6"
      },
      "outputs": [],
      "source": []
    },
    {
      "cell_type": "code",
      "execution_count": 6,
      "metadata": {
        "id": "psnmt5v5TKrT"
      },
      "outputs": [],
      "source": [
        "# распад веса\n",
        "#wd=1e-5\n",
        "#filter_bias_and_bn = True\n",
        "\n",
        "loss_type = \"label_smooth\"\n",
        "max_lr = 3e-4\n",
        "\n",
        "# в шагах батча\n",
        "log_interval = 60\n",
        "save_interval = 60\n",
        "\n",
        "run_name = '1'\n",
        "n_epochs = 20"
      ]
    },
    {
      "cell_type": "markdown",
      "source": [
        "в f'content/result/{run_name}' сохраняется:\n",
        "*   лучшая сеть \n",
        "*   costs.txt - записи о train  датасете f'{steps}-{acc}-{loss}'\n",
        "*   costs_test.txt - записи о val датасете f'{steps}-{acc}-{loss}'\n",
        "\n",
        "\n"
      ],
      "metadata": {
        "id": "uNdIx-UCPtqF"
      }
    },
    {
      "cell_type": "code",
      "source": [
        "from train import train_net, inference\n",
        "train_net(net, train_loader, val_loader, run_name = '1', n_epochs = 20, log_interval = 60, save_interval = 60, loss_type='label_smooth', load_root=None)\n"
      ],
      "metadata": {
        "colab": {
          "base_uri": "https://localhost:8080/"
        },
        "id": "YQaG6RSdLaBM",
        "outputId": "7a125948-16dd-4197-b9c0-59d76216a7e4"
      },
      "execution_count": 7,
      "outputs": [
        {
          "output_type": "stream",
          "name": "stdout",
          "text": [
            "0.125 interval: 60\n",
            "epoch 1/20 | iters 0/305 | acc: 0.00 | loss: 0.04 | ms/batch 57.22 \n",
            "0.1 saved\n",
            "test: Epoch 1 | Iters 0 | acc: 0.1000 loss: 2.52 | ms/batch 51.91 \n",
            "----------------------------------------------------------------------------------------------------\n",
            "21.375 interval: 60\n",
            "epoch 1/20 | iters 60/305 | acc: 0.36 | loss: 1.97 | ms/batch  2.17 \n",
            "0.18846153846153846 saved\n",
            "test: Epoch 1 | Iters 60 | acc: 0.1885 loss: 2.38 | ms/batch 51.89 \n",
            "----------------------------------------------------------------------------------------------------\n",
            "27.5 interval: 60\n",
            "epoch 1/20 | iters 120/305 | acc: 0.46 | loss: 1.61 | ms/batch  1.74 \n",
            "0.5711538461538461 saved\n",
            "test: Epoch 1 | Iters 120 | acc: 0.5712 loss: 1.43 | ms/batch 41.51 \n",
            "----------------------------------------------------------------------------------------------------\n",
            "29.625 interval: 60\n",
            "epoch 1/20 | iters 180/305 | acc: 0.49 | loss: 1.49 | ms/batch  1.77 \n",
            "test: Epoch 1 | Iters 180 | acc: 0.5154 loss: 1.41 | ms/batch 40.39 \n",
            "----------------------------------------------------------------------------------------------------\n",
            "29.375 interval: 60\n",
            "epoch 1/20 | iters 240/305 | acc: 0.49 | loss: 1.48 | ms/batch  1.76 \n",
            "test: Epoch 1 | Iters 240 | acc: 0.5231 loss: 1.42 | ms/batch 40.70 \n",
            "----------------------------------------------------------------------------------------------------\n",
            "27.125 interval: 60\n",
            "epoch 1/20 | iters 300/305 | acc: 0.45 | loss: 1.57 | ms/batch  1.79 \n",
            "test: Epoch 1 | Iters 300 | acc: 0.3577 loss: 1.65 | ms/batch 48.79 \n",
            "----------------------------------------------------------------------------------------------------\n",
            "epoch 1/20 time 0.94\n",
            "26.25 interval: 60\n",
            "epoch 2/20 | iters 55/305 | acc: 0.44 | loss: 1.55 | ms/batch  1.78 \n",
            "test: Epoch 2 | Iters 55 | acc: 0.3769 loss: 2.04 | ms/batch 40.79 \n",
            "----------------------------------------------------------------------------------------------------\n",
            "28.25 interval: 60\n",
            "epoch 2/20 | iters 115/305 | acc: 0.47 | loss: 1.49 | ms/batch  1.80 \n",
            "test: Epoch 2 | Iters 115 | acc: 0.4750 loss: 1.61 | ms/batch 40.90 \n",
            "----------------------------------------------------------------------------------------------------\n",
            "30.75 interval: 60\n",
            "epoch 2/20 | iters 175/305 | acc: 0.51 | loss: 1.46 | ms/batch  1.96 \n",
            "test: Epoch 2 | Iters 175 | acc: 0.3942 loss: 1.80 | ms/batch 46.88 \n",
            "----------------------------------------------------------------------------------------------------\n",
            "30.5 interval: 60\n",
            "epoch 2/20 | iters 235/305 | acc: 0.51 | loss: 1.45 | ms/batch  1.80 \n",
            "test: Epoch 2 | Iters 235 | acc: 0.5404 loss: 1.40 | ms/batch 53.92 \n",
            "----------------------------------------------------------------------------------------------------\n",
            "26.25 interval: 60\n",
            "epoch 2/20 | iters 295/305 | acc: 0.44 | loss: 1.58 | ms/batch  2.40 \n",
            "test: Epoch 2 | Iters 295 | acc: 0.4442 loss: 1.45 | ms/batch 42.04 \n",
            "----------------------------------------------------------------------------------------------------\n",
            "epoch 2/20 time 0.87\n",
            "29.25 interval: 60\n",
            "epoch 3/20 | iters 50/305 | acc: 0.49 | loss: 1.44 | ms/batch  1.93 \n",
            "test: Epoch 3 | Iters 50 | acc: 0.4115 loss: 1.56 | ms/batch 47.44 \n",
            "----------------------------------------------------------------------------------------------------\n",
            "30.25 interval: 60\n",
            "epoch 3/20 | iters 110/305 | acc: 0.50 | loss: 1.45 | ms/batch  1.83 \n",
            "test: Epoch 3 | Iters 110 | acc: 0.4231 loss: 1.65 | ms/batch 41.32 \n",
            "----------------------------------------------------------------------------------------------------\n",
            "30.125 interval: 60\n",
            "epoch 3/20 | iters 170/305 | acc: 0.50 | loss: 1.46 | ms/batch  1.90 \n",
            "test: Epoch 3 | Iters 170 | acc: 0.5500 loss: 1.39 | ms/batch 44.31 \n",
            "----------------------------------------------------------------------------------------------------\n",
            "28.875 interval: 60\n",
            "epoch 3/20 | iters 230/305 | acc: 0.48 | loss: 1.42 | ms/batch  1.85 \n",
            "test: Epoch 3 | Iters 230 | acc: 0.5692 loss: 1.20 | ms/batch 42.04 \n",
            "----------------------------------------------------------------------------------------------------\n",
            "31.75 interval: 60\n",
            "epoch 3/20 | iters 290/305 | acc: 0.53 | loss: 1.40 | ms/batch  1.85 \n",
            "test: Epoch 3 | Iters 290 | acc: 0.4615 loss: 1.45 | ms/batch 41.49 \n",
            "----------------------------------------------------------------------------------------------------\n",
            "epoch 3/20 time 0.84\n",
            "33.625 interval: 60\n",
            "epoch 4/20 | iters 45/305 | acc: 0.56 | loss: 1.32 | ms/batch  1.86 \n",
            "test: Epoch 4 | Iters 45 | acc: 0.4558 loss: 1.47 | ms/batch 42.08 \n",
            "----------------------------------------------------------------------------------------------------\n",
            "34.0 interval: 60\n",
            "epoch 4/20 | iters 105/305 | acc: 0.57 | loss: 1.30 | ms/batch  1.83 \n",
            "test: Epoch 4 | Iters 105 | acc: 0.5308 loss: 1.30 | ms/batch 41.64 \n",
            "----------------------------------------------------------------------------------------------------\n",
            "34.5 interval: 60\n",
            "epoch 4/20 | iters 165/305 | acc: 0.57 | loss: 1.28 | ms/batch  1.84 \n",
            "test: Epoch 4 | Iters 165 | acc: 0.5404 loss: 1.42 | ms/batch 41.63 \n",
            "----------------------------------------------------------------------------------------------------\n",
            "33.875 interval: 60\n",
            "epoch 4/20 | iters 225/305 | acc: 0.56 | loss: 1.34 | ms/batch  2.60 \n",
            "test: Epoch 4 | Iters 225 | acc: 0.5365 loss: 1.31 | ms/batch 46.71 \n",
            "----------------------------------------------------------------------------------------------------\n",
            "35.625 interval: 60\n",
            "epoch 4/20 | iters 285/305 | acc: 0.59 | loss: 1.21 | ms/batch  1.87 \n",
            "test: Epoch 4 | Iters 285 | acc: 0.5673 loss: 1.21 | ms/batch 41.26 \n",
            "----------------------------------------------------------------------------------------------------\n",
            "epoch 4/20 time 0.85\n",
            "33.5 interval: 60\n",
            "epoch 5/20 | iters 40/305 | acc: 0.56 | loss: 1.32 | ms/batch  1.86 \n",
            "0.6115384615384616 saved\n",
            "test: Epoch 5 | Iters 40 | acc: 0.6115 loss: 1.15 | ms/batch 42.93 \n",
            "----------------------------------------------------------------------------------------------------\n",
            "36.5 interval: 60\n",
            "epoch 5/20 | iters 100/305 | acc: 0.61 | loss: 1.22 | ms/batch  2.44 \n",
            "0.6403846153846153 saved\n",
            "test: Epoch 5 | Iters 100 | acc: 0.6404 loss: 1.17 | ms/batch 53.57 \n",
            "----------------------------------------------------------------------------------------------------\n",
            "36.375 interval: 60\n",
            "epoch 5/20 | iters 160/305 | acc: 0.61 | loss: 1.17 | ms/batch  2.01 \n",
            "test: Epoch 5 | Iters 160 | acc: 0.5885 loss: 1.30 | ms/batch 45.39 \n",
            "----------------------------------------------------------------------------------------------------\n",
            "37.5 interval: 60\n",
            "epoch 5/20 | iters 220/305 | acc: 0.62 | loss: 1.12 | ms/batch  1.87 \n",
            "test: Epoch 5 | Iters 220 | acc: 0.5904 loss: 1.15 | ms/batch 42.53 \n",
            "----------------------------------------------------------------------------------------------------\n",
            "35.75 interval: 60\n",
            "epoch 5/20 | iters 280/305 | acc: 0.60 | loss: 1.16 | ms/batch  1.85 \n",
            "test: Epoch 5 | Iters 280 | acc: 0.5346 loss: 1.17 | ms/batch 44.36 \n",
            "----------------------------------------------------------------------------------------------------\n",
            "epoch 5/20 time 0.85\n",
            "40.5 interval: 60\n",
            "epoch 6/20 | iters 35/305 | acc: 0.68 | loss: 1.02 | ms/batch  1.87 \n",
            "test: Epoch 6 | Iters 35 | acc: 0.6077 loss: 1.17 | ms/batch 42.07 \n",
            "----------------------------------------------------------------------------------------------------\n",
            "37.0 interval: 60\n",
            "epoch 6/20 | iters 95/305 | acc: 0.62 | loss: 1.13 | ms/batch  1.87 \n",
            "0.6519230769230769 saved\n",
            "test: Epoch 6 | Iters 95 | acc: 0.6519 loss: 1.09 | ms/batch 43.83 \n",
            "----------------------------------------------------------------------------------------------------\n",
            "39.625 interval: 60\n",
            "epoch 6/20 | iters 155/305 | acc: 0.66 | loss: 1.06 | ms/batch  1.87 \n",
            "test: Epoch 6 | Iters 155 | acc: 0.5827 loss: 1.21 | ms/batch 41.84 \n",
            "----------------------------------------------------------------------------------------------------\n",
            "39.625 interval: 60\n",
            "epoch 6/20 | iters 215/305 | acc: 0.66 | loss: 1.04 | ms/batch  1.86 \n",
            "0.6788461538461539 saved\n",
            "test: Epoch 6 | Iters 215 | acc: 0.6788 loss: 1.06 | ms/batch 45.67 \n",
            "----------------------------------------------------------------------------------------------------\n",
            "41.0 interval: 60\n",
            "epoch 6/20 | iters 275/305 | acc: 0.68 | loss: 0.98 | ms/batch  2.09 \n",
            "0.7057692307692308 saved\n",
            "test: Epoch 6 | Iters 275 | acc: 0.7058 loss: 0.86 | ms/batch 44.04 \n",
            "----------------------------------------------------------------------------------------------------\n",
            "epoch 6/20 time 0.86\n",
            "41.25 interval: 60\n",
            "epoch 7/20 | iters 30/305 | acc: 0.69 | loss: 0.96 | ms/batch  1.87 \n",
            "test: Epoch 7 | Iters 30 | acc: 0.7058 loss: 1.01 | ms/batch 42.14 \n",
            "----------------------------------------------------------------------------------------------------\n",
            "40.75 interval: 60\n",
            "epoch 7/20 | iters 90/305 | acc: 0.68 | loss: 1.02 | ms/batch  1.88 \n",
            "test: Epoch 7 | Iters 90 | acc: 0.6346 loss: 1.09 | ms/batch 41.84 \n",
            "----------------------------------------------------------------------------------------------------\n",
            "39.375 interval: 60\n",
            "epoch 7/20 | iters 150/305 | acc: 0.66 | loss: 1.01 | ms/batch  1.87 \n",
            "test: Epoch 7 | Iters 150 | acc: 0.6673 loss: 1.01 | ms/batch 41.68 \n",
            "----------------------------------------------------------------------------------------------------\n",
            "41.25 interval: 60\n",
            "epoch 7/20 | iters 210/305 | acc: 0.69 | loss: 0.97 | ms/batch  1.90 \n",
            "test: Epoch 7 | Iters 210 | acc: 0.6481 loss: 1.07 | ms/batch 41.76 \n",
            "----------------------------------------------------------------------------------------------------\n",
            "40.125 interval: 60\n",
            "epoch 7/20 | iters 270/305 | acc: 0.67 | loss: 1.06 | ms/batch  1.86 \n",
            "test: Epoch 7 | Iters 270 | acc: 0.6673 loss: 0.97 | ms/batch 42.04 \n",
            "----------------------------------------------------------------------------------------------------\n",
            "epoch 7/20 time 0.83\n",
            "42.0 interval: 60\n",
            "epoch 8/20 | iters 25/305 | acc: 0.70 | loss: 0.92 | ms/batch  1.89 \n",
            "test: Epoch 8 | Iters 25 | acc: 0.6865 loss: 1.05 | ms/batch 41.76 \n",
            "----------------------------------------------------------------------------------------------------\n",
            "44.125 interval: 60\n",
            "epoch 8/20 | iters 85/305 | acc: 0.74 | loss: 0.84 | ms/batch  1.89 \n",
            "0.7365384615384616 saved\n",
            "test: Epoch 8 | Iters 85 | acc: 0.7365 loss: 0.88 | ms/batch 42.78 \n",
            "----------------------------------------------------------------------------------------------------\n",
            "41.875 interval: 60\n",
            "epoch 8/20 | iters 145/305 | acc: 0.70 | loss: 0.88 | ms/batch  1.88 \n",
            "test: Epoch 8 | Iters 145 | acc: 0.7346 loss: 0.86 | ms/batch 41.83 \n",
            "----------------------------------------------------------------------------------------------------\n",
            "42.875 interval: 60\n",
            "epoch 8/20 | iters 205/305 | acc: 0.71 | loss: 0.88 | ms/batch  1.86 \n",
            "test: Epoch 8 | Iters 205 | acc: 0.6923 loss: 0.91 | ms/batch 42.23 \n",
            "----------------------------------------------------------------------------------------------------\n",
            "41.125 interval: 60\n",
            "epoch 8/20 | iters 265/305 | acc: 0.69 | loss: 0.93 | ms/batch  1.88 \n",
            "test: Epoch 8 | Iters 265 | acc: 0.6865 loss: 0.96 | ms/batch 42.44 \n",
            "----------------------------------------------------------------------------------------------------\n",
            "epoch 8/20 time 0.84\n",
            "46.125 interval: 60\n",
            "epoch 9/20 | iters 20/305 | acc: 0.77 | loss: 0.84 | ms/batch  1.87 \n",
            "test: Epoch 9 | Iters 20 | acc: 0.7346 loss: 0.88 | ms/batch 41.98 \n",
            "----------------------------------------------------------------------------------------------------\n",
            "45.25 interval: 60\n",
            "epoch 9/20 | iters 80/305 | acc: 0.75 | loss: 0.81 | ms/batch  2.05 \n",
            "0.8 saved\n",
            "test: Epoch 9 | Iters 80 | acc: 0.8000 loss: 0.75 | ms/batch 49.42 \n",
            "----------------------------------------------------------------------------------------------------\n",
            "46.875 interval: 60\n",
            "epoch 9/20 | iters 140/305 | acc: 0.78 | loss: 0.76 | ms/batch  1.89 \n",
            "test: Epoch 9 | Iters 140 | acc: 0.7923 loss: 0.70 | ms/batch 41.69 \n",
            "----------------------------------------------------------------------------------------------------\n",
            "43.375 interval: 60\n",
            "epoch 9/20 | iters 200/305 | acc: 0.72 | loss: 0.84 | ms/batch  1.86 \n",
            "test: Epoch 9 | Iters 200 | acc: 0.7635 loss: 0.82 | ms/batch 41.94 \n",
            "----------------------------------------------------------------------------------------------------\n",
            "44.375 interval: 60\n",
            "epoch 9/20 | iters 260/305 | acc: 0.74 | loss: 0.84 | ms/batch  1.88 \n",
            "0.8096153846153846 saved\n",
            "test: Epoch 9 | Iters 260 | acc: 0.8096 loss: 0.69 | ms/batch 43.25 \n",
            "----------------------------------------------------------------------------------------------------\n",
            "epoch 9/20 time 0.84\n",
            "45.75 interval: 60\n",
            "epoch 10/20 | iters 15/305 | acc: 0.76 | loss: 0.76 | ms/batch  1.87 \n",
            "test: Epoch 10 | Iters 15 | acc: 0.7769 loss: 0.75 | ms/batch 41.82 \n",
            "----------------------------------------------------------------------------------------------------\n",
            "49.0 interval: 60\n",
            "epoch 10/20 | iters 75/305 | acc: 0.82 | loss: 0.68 | ms/batch  1.87 \n",
            "test: Epoch 10 | Iters 75 | acc: 0.7904 loss: 0.65 | ms/batch 42.09 \n",
            "----------------------------------------------------------------------------------------------------\n",
            "47.125 interval: 60\n",
            "epoch 10/20 | iters 135/305 | acc: 0.79 | loss: 0.75 | ms/batch  1.88 \n",
            "test: Epoch 10 | Iters 135 | acc: 0.8058 loss: 0.67 | ms/batch 42.76 \n",
            "----------------------------------------------------------------------------------------------------\n",
            "48.0 interval: 60\n",
            "epoch 10/20 | iters 195/305 | acc: 0.80 | loss: 0.68 | ms/batch  1.86 \n",
            "test: Epoch 10 | Iters 195 | acc: 0.7808 loss: 0.74 | ms/batch 42.30 \n",
            "----------------------------------------------------------------------------------------------------\n",
            "47.875 interval: 60\n",
            "epoch 10/20 | iters 255/305 | acc: 0.80 | loss: 0.69 | ms/batch  1.88 \n",
            "0.8346153846153846 saved\n",
            "test: Epoch 10 | Iters 255 | acc: 0.8346 loss: 0.60 | ms/batch 43.09 \n",
            "----------------------------------------------------------------------------------------------------\n",
            "epoch 10/20 time 0.84\n",
            "48.75 interval: 60\n",
            "epoch 11/20 | iters 10/305 | acc: 0.81 | loss: 0.66 | ms/batch  1.89 \n",
            "test: Epoch 11 | Iters 10 | acc: 0.7942 loss: 0.66 | ms/batch 42.11 \n",
            "----------------------------------------------------------------------------------------------------\n",
            "48.75 interval: 60\n",
            "epoch 11/20 | iters 70/305 | acc: 0.81 | loss: 0.62 | ms/batch  1.88 \n",
            "test: Epoch 11 | Iters 70 | acc: 0.8192 loss: 0.60 | ms/batch 41.86 \n",
            "----------------------------------------------------------------------------------------------------\n",
            "49.125 interval: 60\n",
            "epoch 11/20 | iters 130/305 | acc: 0.82 | loss: 0.62 | ms/batch  1.90 \n",
            "test: Epoch 11 | Iters 130 | acc: 0.7769 loss: 0.74 | ms/batch 41.97 \n",
            "----------------------------------------------------------------------------------------------------\n",
            "46.5 interval: 60\n",
            "epoch 11/20 | iters 190/305 | acc: 0.78 | loss: 0.73 | ms/batch  1.89 \n",
            "test: Epoch 11 | Iters 190 | acc: 0.8077 loss: 0.66 | ms/batch 42.00 \n",
            "----------------------------------------------------------------------------------------------------\n",
            "49.0 interval: 60\n",
            "epoch 11/20 | iters 250/305 | acc: 0.82 | loss: 0.64 | ms/batch  1.92 \n",
            "test: Epoch 11 | Iters 250 | acc: 0.8077 loss: 0.66 | ms/batch 41.86 \n",
            "----------------------------------------------------------------------------------------------------\n",
            "epoch 11/20 time 0.83\n",
            "49.875 interval: 60\n",
            "epoch 12/20 | iters 5/305 | acc: 0.83 | loss: 0.60 | ms/batch  1.87 \n",
            "0.8346153846153846 saved\n",
            "test: Epoch 12 | Iters 5 | acc: 0.8346 loss: 0.60 | ms/batch 43.14 \n",
            "----------------------------------------------------------------------------------------------------\n",
            "49.0 interval: 60\n",
            "epoch 12/20 | iters 65/305 | acc: 0.82 | loss: 0.62 | ms/batch  1.88 \n",
            "test: Epoch 12 | Iters 65 | acc: 0.8000 loss: 0.71 | ms/batch 41.98 \n",
            "----------------------------------------------------------------------------------------------------\n",
            "50.0 interval: 60\n",
            "epoch 12/20 | iters 125/305 | acc: 0.83 | loss: 0.59 | ms/batch  1.88 \n",
            "0.8557692307692307 saved\n",
            "test: Epoch 12 | Iters 125 | acc: 0.8558 loss: 0.54 | ms/batch 43.24 \n",
            "----------------------------------------------------------------------------------------------------\n",
            "51.25 interval: 60\n",
            "epoch 12/20 | iters 185/305 | acc: 0.85 | loss: 0.54 | ms/batch  1.86 \n",
            "test: Epoch 12 | Iters 185 | acc: 0.7635 loss: 0.77 | ms/batch 41.83 \n",
            "----------------------------------------------------------------------------------------------------\n",
            "51.5 interval: 60\n",
            "epoch 12/20 | iters 245/305 | acc: 0.86 | loss: 0.57 | ms/batch  1.92 \n",
            "test: Epoch 12 | Iters 245 | acc: 0.8346 loss: 0.59 | ms/batch 41.89 \n",
            "----------------------------------------------------------------------------------------------------\n",
            "epoch 12/20 time 0.83\n",
            "50.75 interval: 60\n",
            "epoch 13/20 | iters 0/305 | acc: 0.85 | loss: 0.56 | ms/batch  1.87 \n",
            "test: Epoch 13 | Iters 0 | acc: 0.8288 loss: 0.62 | ms/batch 41.76 \n",
            "----------------------------------------------------------------------------------------------------\n",
            "51.625 interval: 60\n",
            "epoch 13/20 | iters 60/305 | acc: 0.86 | loss: 0.50 | ms/batch  1.88 \n",
            "test: Epoch 13 | Iters 60 | acc: 0.8365 loss: 0.57 | ms/batch 42.24 \n",
            "----------------------------------------------------------------------------------------------------\n",
            "50.375 interval: 60\n",
            "epoch 13/20 | iters 120/305 | acc: 0.84 | loss: 0.54 | ms/batch  1.87 \n",
            "test: Epoch 13 | Iters 120 | acc: 0.8115 loss: 0.62 | ms/batch 41.97 \n",
            "----------------------------------------------------------------------------------------------------\n",
            "52.75 interval: 60\n",
            "epoch 13/20 | iters 180/305 | acc: 0.88 | loss: 0.44 | ms/batch  1.89 \n",
            "0.8846153846153846 saved\n",
            "test: Epoch 13 | Iters 180 | acc: 0.8846 loss: 0.47 | ms/batch 42.98 \n",
            "----------------------------------------------------------------------------------------------------\n",
            "50.75 interval: 60\n",
            "epoch 13/20 | iters 240/305 | acc: 0.85 | loss: 0.53 | ms/batch  1.87 \n",
            "test: Epoch 13 | Iters 240 | acc: 0.8558 loss: 0.52 | ms/batch 41.71 \n",
            "----------------------------------------------------------------------------------------------------\n",
            "51.25 interval: 60\n",
            "epoch 13/20 | iters 300/305 | acc: 0.85 | loss: 0.48 | ms/batch  1.88 \n",
            "test: Epoch 13 | Iters 300 | acc: 0.8385 loss: 0.56 | ms/batch 41.78 \n",
            "----------------------------------------------------------------------------------------------------\n",
            "epoch 13/20 time 0.88\n",
            "52.875 interval: 60\n",
            "epoch 14/20 | iters 55/305 | acc: 0.88 | loss: 0.45 | ms/batch  1.88 \n",
            "test: Epoch 14 | Iters 55 | acc: 0.8577 loss: 0.52 | ms/batch 41.66 \n",
            "----------------------------------------------------------------------------------------------------\n",
            "53.75 interval: 60\n",
            "epoch 14/20 | iters 115/305 | acc: 0.90 | loss: 0.42 | ms/batch  1.91 \n",
            "test: Epoch 14 | Iters 115 | acc: 0.8519 loss: 0.53 | ms/batch 41.81 \n",
            "----------------------------------------------------------------------------------------------------\n",
            "52.5 interval: 60\n",
            "epoch 14/20 | iters 175/305 | acc: 0.88 | loss: 0.47 | ms/batch  1.87 \n",
            "test: Epoch 14 | Iters 175 | acc: 0.8750 loss: 0.45 | ms/batch 41.91 \n",
            "----------------------------------------------------------------------------------------------------\n",
            "53.25 interval: 60\n",
            "epoch 14/20 | iters 235/305 | acc: 0.89 | loss: 0.44 | ms/batch  1.88 \n",
            "test: Epoch 14 | Iters 235 | acc: 0.8423 loss: 0.52 | ms/batch 41.96 \n",
            "----------------------------------------------------------------------------------------------------\n",
            "53.625 interval: 60\n",
            "epoch 14/20 | iters 295/305 | acc: 0.89 | loss: 0.43 | ms/batch  1.88 \n",
            "test: Epoch 14 | Iters 295 | acc: 0.8673 loss: 0.49 | ms/batch 41.97 \n",
            "----------------------------------------------------------------------------------------------------\n",
            "epoch 14/20 time 0.83\n",
            "53.375 interval: 60\n",
            "epoch 15/20 | iters 50/305 | acc: 0.89 | loss: 0.44 | ms/batch  1.89 \n",
            "test: Epoch 15 | Iters 50 | acc: 0.8750 loss: 0.48 | ms/batch 41.84 \n",
            "----------------------------------------------------------------------------------------------------\n",
            "54.125 interval: 60\n",
            "epoch 15/20 | iters 110/305 | acc: 0.90 | loss: 0.42 | ms/batch  1.88 \n",
            "test: Epoch 15 | Iters 110 | acc: 0.8462 loss: 0.58 | ms/batch 41.80 \n",
            "----------------------------------------------------------------------------------------------------\n",
            "53.25 interval: 60\n",
            "epoch 15/20 | iters 170/305 | acc: 0.89 | loss: 0.43 | ms/batch  1.89 \n",
            "test: Epoch 15 | Iters 170 | acc: 0.8596 loss: 0.48 | ms/batch 41.71 \n",
            "----------------------------------------------------------------------------------------------------\n",
            "54.875 interval: 60\n",
            "epoch 15/20 | iters 230/305 | acc: 0.91 | loss: 0.39 | ms/batch  1.87 \n",
            "test: Epoch 15 | Iters 230 | acc: 0.8519 loss: 0.53 | ms/batch 42.07 \n",
            "----------------------------------------------------------------------------------------------------\n",
            "53.625 interval: 60\n",
            "epoch 15/20 | iters 290/305 | acc: 0.89 | loss: 0.38 | ms/batch  1.91 \n",
            "test: Epoch 15 | Iters 290 | acc: 0.8558 loss: 0.48 | ms/batch 41.87 \n",
            "----------------------------------------------------------------------------------------------------\n",
            "epoch 15/20 time 0.84\n",
            "54.5 interval: 60\n",
            "epoch 16/20 | iters 45/305 | acc: 0.91 | loss: 0.35 | ms/batch  1.88 \n",
            "test: Epoch 16 | Iters 45 | acc: 0.8654 loss: 0.49 | ms/batch 41.83 \n",
            "----------------------------------------------------------------------------------------------------\n",
            "54.375 interval: 60\n",
            "epoch 16/20 | iters 105/305 | acc: 0.91 | loss: 0.35 | ms/batch  1.88 \n",
            "test: Epoch 16 | Iters 105 | acc: 0.8692 loss: 0.47 | ms/batch 42.06 \n",
            "----------------------------------------------------------------------------------------------------\n",
            "55.0 interval: 60\n",
            "epoch 16/20 | iters 165/305 | acc: 0.92 | loss: 0.34 | ms/batch  1.89 \n",
            "test: Epoch 16 | Iters 165 | acc: 0.8673 loss: 0.48 | ms/batch 42.09 \n",
            "----------------------------------------------------------------------------------------------------\n",
            "54.625 interval: 60\n",
            "epoch 16/20 | iters 225/305 | acc: 0.91 | loss: 0.36 | ms/batch  1.88 \n",
            "test: Epoch 16 | Iters 225 | acc: 0.8769 loss: 0.45 | ms/batch 41.74 \n",
            "----------------------------------------------------------------------------------------------------\n",
            "55.375 interval: 60\n",
            "epoch 16/20 | iters 285/305 | acc: 0.92 | loss: 0.36 | ms/batch  1.88 \n",
            "test: Epoch 16 | Iters 285 | acc: 0.8788 loss: 0.45 | ms/batch 43.18 \n",
            "----------------------------------------------------------------------------------------------------\n",
            "epoch 16/20 time 0.83\n",
            "55.25 interval: 60\n",
            "epoch 17/20 | iters 40/305 | acc: 0.92 | loss: 0.34 | ms/batch  1.87 \n",
            "test: Epoch 17 | Iters 40 | acc: 0.8673 loss: 0.47 | ms/batch 42.68 \n",
            "----------------------------------------------------------------------------------------------------\n",
            "55.25 interval: 60\n",
            "epoch 17/20 | iters 100/305 | acc: 0.92 | loss: 0.32 | ms/batch  1.87 \n",
            "test: Epoch 17 | Iters 100 | acc: 0.8808 loss: 0.43 | ms/batch 42.06 \n",
            "----------------------------------------------------------------------------------------------------\n",
            "55.125 interval: 60\n",
            "epoch 17/20 | iters 160/305 | acc: 0.92 | loss: 0.37 | ms/batch  1.88 \n",
            "test: Epoch 17 | Iters 160 | acc: 0.8692 loss: 0.44 | ms/batch 42.02 \n",
            "----------------------------------------------------------------------------------------------------\n",
            "56.5 interval: 60\n",
            "epoch 17/20 | iters 220/305 | acc: 0.94 | loss: 0.30 | ms/batch  1.89 \n",
            "test: Epoch 17 | Iters 220 | acc: 0.8808 loss: 0.43 | ms/batch 52.30 \n",
            "----------------------------------------------------------------------------------------------------\n",
            "56.75 interval: 60\n",
            "epoch 17/20 | iters 280/305 | acc: 0.95 | loss: 0.27 | ms/batch  2.92 \n",
            "0.8942307692307693 saved\n",
            "test: Epoch 17 | Iters 280 | acc: 0.8942 loss: 0.42 | ms/batch 62.39 \n",
            "----------------------------------------------------------------------------------------------------\n",
            "epoch 17/20 time 0.88\n",
            "55.75 interval: 60\n",
            "epoch 18/20 | iters 35/305 | acc: 0.93 | loss: 0.32 | ms/batch  1.87 \n",
            "test: Epoch 18 | Iters 35 | acc: 0.8846 loss: 0.43 | ms/batch 46.39 \n",
            "----------------------------------------------------------------------------------------------------\n",
            "57.375 interval: 60\n",
            "epoch 18/20 | iters 95/305 | acc: 0.96 | loss: 0.26 | ms/batch  1.87 \n",
            "test: Epoch 18 | Iters 95 | acc: 0.8750 loss: 0.43 | ms/batch 42.31 \n",
            "----------------------------------------------------------------------------------------------------\n",
            "56.75 interval: 60\n",
            "epoch 18/20 | iters 155/305 | acc: 0.95 | loss: 0.26 | ms/batch  1.88 \n",
            "test: Epoch 18 | Iters 155 | acc: 0.8788 loss: 0.43 | ms/batch 42.72 \n",
            "----------------------------------------------------------------------------------------------------\n",
            "55.375 interval: 60\n",
            "epoch 18/20 | iters 215/305 | acc: 0.92 | loss: 0.31 | ms/batch  1.89 \n",
            "test: Epoch 18 | Iters 215 | acc: 0.8846 loss: 0.43 | ms/batch 42.52 \n",
            "----------------------------------------------------------------------------------------------------\n",
            "55.5 interval: 60\n",
            "epoch 18/20 | iters 275/305 | acc: 0.93 | loss: 0.30 | ms/batch  1.87 \n",
            "test: Epoch 18 | Iters 275 | acc: 0.8885 loss: 0.43 | ms/batch 42.74 \n",
            "----------------------------------------------------------------------------------------------------\n",
            "epoch 18/20 time 0.85\n",
            "57.25 interval: 60\n",
            "epoch 19/20 | iters 30/305 | acc: 0.95 | loss: 0.27 | ms/batch  1.91 \n",
            "test: Epoch 19 | Iters 30 | acc: 0.8827 loss: 0.43 | ms/batch 46.33 \n",
            "----------------------------------------------------------------------------------------------------\n",
            "55.75 interval: 60\n",
            "epoch 19/20 | iters 90/305 | acc: 0.93 | loss: 0.32 | ms/batch  1.87 \n",
            "test: Epoch 19 | Iters 90 | acc: 0.8865 loss: 0.41 | ms/batch 44.91 \n",
            "----------------------------------------------------------------------------------------------------\n",
            "56.875 interval: 60\n",
            "epoch 19/20 | iters 150/305 | acc: 0.95 | loss: 0.27 | ms/batch  2.02 \n",
            "test: Epoch 19 | Iters 150 | acc: 0.8846 loss: 0.41 | ms/batch 47.29 \n",
            "----------------------------------------------------------------------------------------------------\n",
            "57.0 interval: 60\n",
            "epoch 19/20 | iters 210/305 | acc: 0.95 | loss: 0.27 | ms/batch  2.05 \n",
            "test: Epoch 19 | Iters 210 | acc: 0.8923 loss: 0.41 | ms/batch 45.12 \n",
            "----------------------------------------------------------------------------------------------------\n",
            "57.0 interval: 60\n",
            "epoch 19/20 | iters 270/305 | acc: 0.95 | loss: 0.25 | ms/batch  1.89 \n",
            "test: Epoch 19 | Iters 270 | acc: 0.8827 loss: 0.42 | ms/batch 42.33 \n",
            "----------------------------------------------------------------------------------------------------\n",
            "epoch 19/20 time 0.87\n",
            "56.375 interval: 60\n",
            "epoch 20/20 | iters 25/305 | acc: 0.94 | loss: 0.27 | ms/batch  1.88 \n",
            "test: Epoch 20 | Iters 25 | acc: 0.8904 loss: 0.42 | ms/batch 42.70 \n",
            "----------------------------------------------------------------------------------------------------\n",
            "58.125 interval: 60\n",
            "epoch 20/20 | iters 85/305 | acc: 0.97 | loss: 0.24 | ms/batch  1.87 \n",
            "test: Epoch 20 | Iters 85 | acc: 0.8865 loss: 0.41 | ms/batch 42.98 \n",
            "----------------------------------------------------------------------------------------------------\n",
            "56.75 interval: 60\n",
            "epoch 20/20 | iters 145/305 | acc: 0.95 | loss: 0.29 | ms/batch  1.88 \n",
            "0.8942307692307693 saved\n",
            "test: Epoch 20 | Iters 145 | acc: 0.8942 loss: 0.41 | ms/batch 47.82 \n",
            "----------------------------------------------------------------------------------------------------\n",
            "55.375 interval: 60\n",
            "epoch 20/20 | iters 205/305 | acc: 0.92 | loss: 0.30 | ms/batch  1.91 \n",
            "test: Epoch 20 | Iters 205 | acc: 0.8827 loss: 0.42 | ms/batch 42.04 \n",
            "----------------------------------------------------------------------------------------------------\n",
            "56.875 interval: 60\n",
            "epoch 20/20 | iters 265/305 | acc: 0.95 | loss: 0.26 | ms/batch  1.87 \n",
            "0.8961538461538462 saved\n",
            "test: Epoch 20 | Iters 265 | acc: 0.8962 loss: 0.41 | ms/batch 43.16 \n",
            "----------------------------------------------------------------------------------------------------\n",
            "epoch 20/20 time 0.86\n"
          ]
        }
      ]
    },
    {
      "cell_type": "markdown",
      "source": [
        "# графики"
      ],
      "metadata": {
        "id": "-O0KPqw8aZKQ"
      }
    },
    {
      "cell_type": "code",
      "execution_count": 4,
      "metadata": {
        "id": "uoqWD8tboqEa",
        "colab": {
          "base_uri": "https://localhost:8080/",
          "height": 296
        },
        "outputId": "d0ba8831-dc99-402e-b0ff-c1972c73365d"
      },
      "outputs": [
        {
          "output_type": "execute_result",
          "data": {
            "text/plain": [
              "[<matplotlib.lines.Line2D at 0x7f33c03caaf0>]"
            ]
          },
          "metadata": {},
          "execution_count": 4
        },
        {
          "output_type": "display_data",
          "data": {
            "text/plain": [
              "<Figure size 432x288 with 1 Axes>"
            ],
            "image/png": "[encoded data removed]"
          },
          "metadata": {
            "needs_background": "light"
          }
        }
      ],
      "source": [
        "import matplotlib.pyplot as plt\n",
        "y = []\n",
        "acc = []\n",
        "run_name =1\n",
        "with open(f'result/{run_name}/costs.txt') as file:\n",
        "  for line in file:\n",
        "        l = line.split('-')\n",
        "        y.append(float(l[0]))\n",
        "        acc.append(float(l[1]))\n",
        "y_test = []\n",
        "acc_test = []\n",
        "with open(f'result/{run_name}/costs_test.txt') as file:\n",
        "  for line in file:\n",
        "        l = line.split('-')\n",
        "        y_test.append(round(float(l[0]),2))\n",
        "        acc_test.append(round(float(l[1]),2))\n",
        "\n",
        "\n",
        "fig, ax = plt.subplots()\n",
        "plt.xlabel('accuracy')\n",
        "\n",
        "ax.plot(y, acc)\n",
        "ax.plot(y_test, acc_test)"
      ]
    },
    {
      "cell_type": "code",
      "execution_count": 8,
      "metadata": {
        "colab": {
          "base_uri": "https://localhost:8080/",
          "height": 295
        },
        "id": "3KzsODzfoqEa",
        "outputId": "2e431015-f9f2-4e32-f55d-4cc1f7f14c5d"
      },
      "outputs": [
        {
          "output_type": "execute_result",
          "data": {
            "text/plain": [
              "[<matplotlib.lines.Line2D at 0x7f3325d2e7f0>]"
            ]
          },
          "metadata": {},
          "execution_count": 8
        },
        {
          "output_type": "display_data",
          "data": {
            "text/plain": [
              "<Figure size 432x288 with 1 Axes>"
            ],
            "image/png": "[encoded data removed]"
          },
          "metadata": {
            "needs_background": "light"
          }
        }
      ],
      "source": [
        "y = []\n",
        "acc = []\n",
        "with open(f'result/{run_name}/costs.txt') as file:\n",
        "  for line in file:\n",
        "        l = line.split('-')\n",
        "        y.append(float(l[0]))\n",
        "        acc.append(float(l[2]))\n",
        "y_test = []\n",
        "acc_test = []\n",
        "with open(f'result/{run_name}/costs_test.txt') as file:\n",
        "  for line in file:\n",
        "        l = line.split('-')\n",
        "        y_test.append(round(float(l[0]),2))\n",
        "        acc_test.append(round(float(l[2]),2))\n",
        "\n",
        "\n",
        "fig, ax = plt.subplots()\n",
        "plt.xlabel('loss')\n",
        "\n",
        "ax.plot(y[1:], acc[1:])\n",
        "ax.plot(y_test[1:], acc_test[1:])"
      ]
    },
    {
      "cell_type": "code",
      "source": [],
      "metadata": {
        "id": "8LGhie3wZRgv"
      },
      "execution_count": null,
      "outputs": []
    },
    {
      "cell_type": "markdown",
      "source": [
        "# inferance 1 audio"
      ],
      "metadata": {
        "id": "Wa2F9aDVamFJ"
      }
    },
    {
      "cell_type": "code",
      "source": [
        "from train import train_net, inference\n",
        "path_sound = '/content/dataset_splitted/test/0/177621-0-0-120.wav'\n",
        "path_net = '/content/result/1/net.pkl'\n",
        "inference(path_sound, path_net)"
      ],
      "metadata": {
        "id": "fXaZ1mngLaV0"
      },
      "execution_count": null,
      "outputs": []
    },
    {
      "cell_type": "code",
      "source": [],
      "metadata": {
        "id": "tds4Zj69LaZE"
      },
      "execution_count": null,
      "outputs": []
    },
    {
      "cell_type": "markdown",
      "metadata": {
        "id": "60mdYi0RoqEo"
      },
      "source": [
        "# infer dataset"
      ]
    },
    {
      "cell_type": "code",
      "execution_count": 1,
      "metadata": {
        "id": "Wm_cj1vMoqEp"
      },
      "outputs": [],
      "source": [
        "import sys \n",
        "import torch\n",
        "sys.path.insert(0,'/content/AudioClassification/')\n",
        "\n",
        "from utils.audio_dataset import AudioDataset as SoundDataset\n",
        "from torch.utils.data import DataLoader\n",
        "\n",
        "data_set = SoundDataset('/content/dataset_splitted',\n",
        "                                mode='test',\n",
        "                                segment_length=114688,\n",
        "                                sampling_rate=22050)\n",
        "data_loader = DataLoader(data_set,\n",
        "                             batch_size=128,\n",
        "                             pin_memory=True if torch.cuda.is_available() else False,\n",
        "                             shuffle=False)"
      ]
    },
    {
      "cell_type": "code",
      "source": [
        "from train import test \n",
        "path_net = '/content/result/1/net.pkl'\n",
        "test(path_net, data_loader)"
      ],
      "metadata": {
        "colab": {
          "base_uri": "https://localhost:8080/",
          "height": 920
        },
        "id": "0xzPuLT8b-P7",
        "outputId": "4db28a41-d587-45ba-c1d6-b7d28deb9675"
      },
      "execution_count": 3,
      "outputs": [
        {
          "output_type": "stream",
          "name": "stdout",
          "text": [
            "0/5\n",
            "1/5\n",
            "2/5\n",
            "3/5\n",
            "4/5\n",
            "Confusion matrix, without normalization\n",
            "                  precision    recall  f1-score   support\n",
            "\n",
            " air_conditioner       0.88      0.94      0.91        54\n",
            "        car_horn       0.85      0.94      0.89        54\n",
            "children_playing       0.91      0.74      0.82        54\n",
            "        dog_bark       0.90      0.81      0.85        54\n",
            "        drilling       0.98      0.91      0.94        54\n",
            "   engine_idling       0.90      0.98      0.94        54\n",
            "        gun_shot       1.00      0.98      0.99        54\n",
            "      jackhammer       0.93      0.96      0.95        54\n",
            "           siren       0.80      0.91      0.85        54\n",
            "    street_music       0.88      0.81      0.85        54\n",
            "\n",
            "        accuracy                           0.90       540\n",
            "       macro avg       0.90      0.90      0.90       540\n",
            "    weighted avg       0.90      0.90      0.90       540\n",
            "\n",
            "conf matrix: \n",
            "tensor([[51,  0,  0,  0,  0,  1,  0,  1,  1,  0],\n",
            "        [ 0, 51,  1,  2,  0,  0,  0,  0,  0,  0],\n",
            "        [ 0,  1, 40,  2,  0,  2,  0,  0,  4,  5],\n",
            "        [ 2,  3,  2, 44,  0,  0,  0,  0,  2,  1],\n",
            "        [ 0,  2,  0,  0, 49,  0,  0,  2,  1,  0],\n",
            "        [ 0,  0,  0,  0,  0, 53,  0,  0,  1,  0],\n",
            "        [ 0,  1,  0,  0,  0,  0, 53,  0,  0,  0],\n",
            "        [ 1,  0,  0,  0,  0,  1,  0, 52,  0,  0],\n",
            "        [ 2,  1,  0,  1,  0,  0,  0,  1, 49,  0],\n",
            "        [ 2,  1,  1,  0,  1,  2,  0,  0,  3, 44]], dtype=torch.int32)\n",
            "acc:0.9\n",
            "***************************************\n",
            "[]\n"
          ]
        },
        {
          "output_type": "display_data",
          "data": {
            "text/plain": [
              "<Figure size 432x288 with 2 Axes>"
            ],
            "image/png": "[encoded data removed]"
          },
          "metadata": {
            "needs_background": "light"
          }
        }
      ]
    },
    {
      "cell_type": "code",
      "execution_count": 43,
      "metadata": {
        "id": "eP9XwRl4iVXh"
      },
      "outputs": [],
      "source": []
    }
  ],
  "metadata": {
    "colab": {
      "provenance": []
    },
    "gpuClass": "standard",
    "kernelspec": {
      "display_name": "Python 3",
      "language": "python",
      "name": "python3"
    },
    "language_info": {
      "codemirror_mode": {
        "name": "ipython",
        "version": 3
      },
      "file_extension": ".py",
      "mimetype": "text/x-python",
      "name": "python",
      "nbconvert_exporter": "python",
      "pygments_lexer": "ipython3",
      "version": "3.7.3"
    }
  },
  "nbformat": 4,
  "nbformat_minor": 0
}